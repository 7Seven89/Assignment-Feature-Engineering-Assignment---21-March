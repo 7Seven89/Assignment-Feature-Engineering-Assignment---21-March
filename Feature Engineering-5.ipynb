{
 "cells": [
  {
   "cell_type": "markdown",
   "id": "4fb85815-1c19-46da-8476-aec268456023",
   "metadata": {},
   "source": [
    "### Q1. What is the difference between Ordinal Encoding and Label Encoding? Provide an example of when you might choose one over the other.\n",
    "\n",
    "**Ordinal Encoding** is used for categorical variables that have a clear order or ranking. It assigns integer values to categories based on their rank. For example, for a variable \"Size\" with values \"Small,\" \"Medium,\" and \"Large,\" we might encode them as Small = 1, Medium = 2, Large = 3.\n",
    "\n",
    "**Label Encoding**, on the other hand, is used for categorical variables without any inherent order. It simply assigns a unique integer to each category. For instance, for a variable \"Color\" with values \"Red,\" \"Green,\" and \"Blue,\" we could encode them as Red = 0, Green = 1, Blue = 2.\n",
    "\n",
    "You might choose **Ordinal Encoding** when the categories have a logical order (like Size), whereas **Label Encoding** would be appropriate for unordered categories (like Color)."
   ]
  },
  {
   "cell_type": "markdown",
   "id": "1eb8bab1-10d1-4d9b-af91-d01b36a50a8c",
   "metadata": {},
   "source": []
  },
  {
   "cell_type": "markdown",
   "id": "5aa21085-504d-4809-8720-8812e9b62c81",
   "metadata": {},
   "source": [
    "### Q2. Explain how Target Guided Ordinal Encoding works and provide an example of when you might use it in a machine learning project.\n",
    "\n",
    "**Target Guided Ordinal Encoding** assigns integer values to categories based on the relationship with the target variable. The categories are ordered by the mean of the target variable for each category. \n",
    "\n",
    "For example, if we have a feature \"Education Level\" with categories \"High School,\" \"Bachelor's,\" \"Master's,\" and \"PhD,\" and our target variable is income, we would calculate the average income for each education level. The encoding would reflect this order, assigning higher values to education levels associated with higher average incomes. \n",
    "\n",
    "This method is useful in projects where the categorical feature has a significant influence on the target variable, such as predicting salaries based on educational attainment."
   ]
  },
  {
   "cell_type": "markdown",
   "id": "fa02f9f0-b11c-4545-8b34-87c772cbebfe",
   "metadata": {},
   "source": []
  },
  {
   "cell_type": "markdown",
   "id": "a97f3a85-1681-4467-bca3-fc87736a8f55",
   "metadata": {},
   "source": [
    "### Q3. Define covariance and explain why it is important in statistical analysis. How is covariance calculated?\n",
    "\n",
    "**Covariance** measures the directional relationship between two random variables. It indicates whether an increase in one variable corresponds to an increase or decrease in another variable. Covariance is important because it helps in understanding the strength and direction of the relationship between variables, which is crucial for various statistical analyses and modeling.\n",
    "\n",
    "Covariance is calculated using the formula:\n",
    "\\[ \\text{Cov}(X, Y) = \\frac{\\sum (X_i - \\bar{X})(Y_i - \\bar{Y})}{n - 1} \\]\n",
    "where \\(X\\) and \\(Y\\) are the two variables, \\(\\bar{X}\\) and \\(\\bar{Y}\\) are their means, and \\(n\\) is the number of observations."
   ]
  },
  {
   "cell_type": "markdown",
   "id": "fa5b1d8b-a103-4c2b-a7cd-12b5c24da85b",
   "metadata": {},
   "source": []
  },
  {
   "cell_type": "markdown",
   "id": "68a450cc-0993-4dbf-9412-d37f2b9084a5",
   "metadata": {},
   "source": [
    "### Q4. For a dataset with the following categorical variables: Color (red, green, blue), Size (small, medium, large), and Material (wood, metal, plastic), perform label encoding using Python's scikit-learn library. Show your code and explain the output.\n",
    "\n",
    "```python\n",
    "from sklearn.preprocessing import LabelEncoder\n",
    "\n",
    "# Sample data\n",
    "data = {\n",
    "    'Color': ['red', 'green', 'blue', 'green', 'red'],\n",
    "    'Size': ['small', 'medium', 'large', 'small', 'medium'],\n",
    "    'Material': ['wood', 'metal', 'plastic', 'wood', 'metal']\n",
    "}\n",
    "\n",
    "# Create a LabelEncoder object\n",
    "label_encoder = LabelEncoder()\n",
    "\n",
    "# Encoding each column\n",
    "data['Color'] = label_encoder.fit_transform(data['Color'])\n",
    "data['Size'] = label_encoder.fit_transform(data['Size'])\n",
    "data['Material'] = label_encoder.fit_transform(data['Material'])\n",
    "\n",
    "print(data)"
   ]
  },
  {
   "cell_type": "markdown",
   "id": "87b8262b-8be7-4e8a-9272-2039bf051ba2",
   "metadata": {},
   "source": []
  },
  {
   "cell_type": "markdown",
   "id": "11756cb0-00cd-472f-b555-8e2ea2804f12",
   "metadata": {},
   "source": [
    "### Q5. Calculate the covariance matrix for the following variables in a dataset: Age, Income, and Education Level. Interpret the results.\n",
    "\n",
    "To calculate the covariance matrix for the variables Age, Income, and Education Level, we need a dataset. For this example, let's consider a small dataset with the following values:\n",
    "\n",
    "| Age | Income | Education Level |\n",
    "|-----|--------|------------------|\n",
    "| 25  | 50000  | 12               |\n",
    "| 30  | 60000  | 14               |\n",
    "| 35  | 70000  | 16               |\n",
    "| 40  | 80000  | 18               |\n",
    "| 45  | 90000  | 20               |\n",
    "\n",
    "**Step 1: Calculate the mean of each variable.**\n",
    "\n",
    "- Mean Age = (25 + 30 + 35 + 40 + 45) / 5 = 35\n",
    "- Mean Income = (50000 + 60000 + 70000 + 80000 + 90000) / 5 = 70000\n",
    "- Mean Education Level = (12 + 14 + 16 + 18 + 20) / 5 = 16\n",
    "\n",
    "**Step 2: Calculate the covariance between each pair of variables.**\n",
    "\n",
    "- Cov(Age, Income) = Σ((Age_i - Mean_Age)(Income_i - Mean_Income)) / (n - 1)\n",
    "- Cov(Age, Education Level) = Σ((Age_i - Mean_Age)(Education_i - Mean_Education)) / (n - 1)\n",
    "- Cov(Income, Education Level) = Σ((Income_i - Mean_Income)(Education_i - Mean_Education)) / (n - 1)\n",
    "\n",
    "**Step 3: Fill the covariance values in the matrix.**\n",
    "\n",
    "Let's calculate:\n",
    "\n",
    "1. **Cov(Age, Income):**\n",
    "   - Cov(Age, Income) = [(25-35)(50000-70000) + (30-35)(60000-70000) + (35-35)(70000-70000) + (40-35)(80000-70000) + (45-35)(90000-70000)] / 4\n",
    "   - = [(-10)(-20000) + (-5)(-10000) + (0)(0) + (5)(10000) + (10)(20000)] / 4\n",
    "   - = [200000 + 50000 + 0 + 50000 + 200000] / 4\n",
    "   - = 500000 / 4 = 125000\n",
    "\n",
    "2. **Cov(Age, Education Level):**\n",
    "   - Cov(Age, Education Level) = [(25-35)(12-16) + (30-35)(14-16) + (35-35)(16-16) + (40-35)(18-16) + (45-35)(20-16)] / 4\n",
    "   - = [(-10)(-4) + (-5)(-2) + (0)(0) + (5)(2) + (10)(4)] / 4\n",
    "   - = [40 + 10 + 0 + 10 + 40] / 4\n",
    "   - = 100 / 4 = 25\n",
    "\n",
    "3. **Cov(Income, Education Level):**\n",
    "   - Cov(Income, Education Level) = [(50000-70000)(12-16) + (60000-70000)(14-16) + (70000-70000)(16-16) + (80000-70000)(18-16) + (90000-70000)(20-16)] / 4\n",
    "   - = [(-20000)(-4) + (-10000)(-2) + (0)(0) + (10000)(2) + (20000)(4)] / 4\n",
    "   - = [80000 + 20000 + 0 + 20000 + 80000] / 4\n",
    "   - = 120000 / 4 = 30000\n",
    "\n",
    "**Step 4: Construct the covariance matrix.**\n",
    "\n",
    "The covariance matrix is:\n",
    "\n",
    "\\[\n",
    "\\begin{bmatrix}\n",
    "Cov(Age, Age) & Cov(Age, Income) & Cov(Age, Education Level) \\\\\n",
    "Cov(Income, Age) & Cov(Income, Income) & Cov(Income, Education Level) \\\\\n",
    "Cov(Education Level, Age) & Cov(Education Level, Income) & Cov(Education Level, Education Level)\n",
    "\\end{bmatrix}\n",
    "=\n",
    "\\begin{bmatrix}\n",
    "250 & 125000 & 25 \\\\\n",
    "125000 & 500000000 & 30000 \\\\\n",
    "25 & 30000 & 10\n",
    "\\end{bmatrix}\n",
    "\\]\n",
    "\n",
    "**Interpretation:**\n",
    "\n",
    "1. **Diagonal Values**: The diagonal elements (Cov(Age, Age), Cov(Income, Income), Cov(Education Level, Education Level)) represent the variance of each variable.\n",
    "2. **Off-Diagonal Values**: The off-diagonal elements indicate the covariance between pairs of variables. \n",
    "   - A positive covariance between Age and Income suggests that as age increases, income tends to increase as well.\n",
    "   - The covariance between Age and Education Level indicates a slight positive relationship, while the Income and Education Level also show a positive relationship.\n",
    "\n",
    "In conclusion, the covariance matrix provides insight into how variables are related to each other, which can guide further analysis or modeling decisions.\n"
   ]
  },
  {
   "cell_type": "markdown",
   "id": "7b34e931-8acf-478f-9efd-37d406229029",
   "metadata": {},
   "source": []
  },
  {
   "cell_type": "markdown",
   "id": "6720851f-8109-42a1-9fd2-17ab06e34056",
   "metadata": {},
   "source": [
    "### Q6. You are working on a machine learning project with a dataset containing several categorical variables, including \"Gender\" (Male/Female), \"Education Level\" (High School/Bachelor's/Master's/PhD), and \"Employment Status\" (Unemployed/Part-Time/Full-Time). Which encoding method would you use for each variable, and why?\n",
    "\n",
    "- **Gender**: Use **nominal encoding** since there are only two categories (Male and Female). It’s straightforward and doesn’t require multiple columns.\n",
    "  \n",
    "- **Education Level**: Use **one-hot encoding**. This variable has multiple categories with no ordinal relationship. One-hot encoding prevents the model from assuming a hierarchy among education levels.\n",
    "\n",
    "- **Employment Status**: Use **one-hot encoding** as well, due to the multiple non-ordinal categories. This method allows each employment status to be treated distinctly in the model."
   ]
  },
  {
   "cell_type": "markdown",
   "id": "4481563f-4cb5-489f-8919-7c8f5bd131bb",
   "metadata": {},
   "source": []
  },
  {
   "cell_type": "markdown",
   "id": "7f8f8406-4a0c-4170-a91d-b7f4550ef385",
   "metadata": {},
   "source": [
    "### Q7. You are analyzing a dataset with two continuous variables, \"Temperature\" and \"Humidity,\" and two categorical variables, \"Weather Condition\" (Sunny/Cloudy/Rainy) and \"Wind Direction\" (North/South/East/West). Calculate the covariance between each pair of variables and interpret the results.\n",
    "\n",
    "Assuming we have the following data:\n",
    "\n",
    "| Temperature | Humidity | Weather Condition | Wind Direction |\n",
    "|-------------|----------|------------------|----------------|\n",
    "| 30          | 70       | Sunny            | North          |\n",
    "| 25          | 80       | Cloudy           | South          |\n",
    "| 20          | 60       | Rainy            | East           |\n",
    "| 35          | 75       | Sunny            | West           |\n",
    "| 28          | 65       | Cloudy           | North          |\n",
    "\n",
    "1. **Calculate Covariance**:\n",
    "   - Cov(Temperature, Humidity)\n",
    "   - Cov(Temperature, Weather Condition) (requires numerical encoding)\n",
    "   - Cov(Temperature, Wind Direction) (requires numerical encoding)\n",
    "   - Cov(Humidity, Weather Condition) (requires numerical encoding)\n",
    "   - Cov(Humidity, Wind Direction) (requires numerical encoding)\n",
    "   - Cov(Weather Condition, Wind Direction) (requires numerical encoding)\n",
    "\n",
    "2. **Interpretation**:\n",
    "   - If Cov(Temperature, Humidity) is positive, it suggests that as temperature increases, humidity also tends to increase.\n",
    "   - Covariance values between categorical variables can be interpreted in terms of their encoded values. A strong positive or negative value would indicate a correlation based on the categories.\n",
    "   - Overall, covariances help in understanding relationships and dependencies among variables, informing feature selection and model design."
   ]
  },
  {
   "cell_type": "markdown",
   "id": "44b3ae6f-d4fa-4634-b794-5181e572351a",
   "metadata": {},
   "source": []
  }
 ],
 "metadata": {
  "kernelspec": {
   "display_name": "Python 3 (ipykernel)",
   "language": "python",
   "name": "python3"
  },
  "language_info": {
   "codemirror_mode": {
    "name": "ipython",
    "version": 3
   },
   "file_extension": ".py",
   "mimetype": "text/x-python",
   "name": "python",
   "nbconvert_exporter": "python",
   "pygments_lexer": "ipython3",
   "version": "3.12.5"
  }
 },
 "nbformat": 4,
 "nbformat_minor": 5
}
